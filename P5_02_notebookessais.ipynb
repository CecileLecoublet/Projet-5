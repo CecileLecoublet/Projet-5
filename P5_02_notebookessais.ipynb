{
 "cells": [
  {
   "cell_type": "markdown",
   "id": "3877798c",
   "metadata": {},
   "source": [
    "# Segmentez des clients d'un site e-commerce"
   ]
  },
  {
   "cell_type": "markdown",
   "id": "a34f9848",
   "metadata": {},
   "source": [
    "Dans ce notebook, on va effectuer une segmentation des clients. <br>\n",
    "Il se divisera en :\n",
    "- Segmentation,\n",
    "- Importation dans un nouveau fichier \"csv\"."
   ]
  },
  {
   "cell_type": "markdown",
   "id": "baf0a510",
   "metadata": {},
   "source": [
    "## Sommaire :\n",
    "* [1. Importation des librairies](#chapter1)\n",
    "* [2. Ouverture de fichiers](#chapter2)\n",
    "* [3. RFM](#chapter3)\n",
    "* [4. Conclusion](#chapter4)"
   ]
  },
  {
   "cell_type": "markdown",
   "id": "6d25df94",
   "metadata": {},
   "source": [
    "## 1. Importation des librairies <a class=\"anchor\" id=\"chapter1\"></a>"
   ]
  },
  {
   "cell_type": "code",
   "execution_count": 1,
   "id": "57065a82",
   "metadata": {},
   "outputs": [],
   "source": [
    "# Librairies de bases\n",
    "import pandas as pd\n",
    "import numpy as np\n",
    "\n",
    "# Graphique\n",
    "import matplotlib.pyplot as plt\n",
    "import seaborn as sns\n",
    "\n",
    "# RFM\n",
    "from datetime import timedelta\n",
    "\n",
    "# Gestion des valeurs manquantes\n",
    "from sklearn.impute import SimpleImputer\n",
    "\n",
    "# Mes fonctions\n",
    "from P5_05_function import *"
   ]
  },
  {
   "cell_type": "markdown",
   "id": "dd0edbec",
   "metadata": {},
   "source": [
    "## 2. Ouverture de fichiers <a class=\"anchor\" id=\"chapter2\"></a>"
   ]
  },
  {
   "cell_type": "code",
   "execution_count": 2,
   "id": "2d27f1c3",
   "metadata": {},
   "outputs": [
    {
     "data": {
      "text/html": [
       "<div>\n",
       "<style scoped>\n",
       "    .dataframe tbody tr th:only-of-type {\n",
       "        vertical-align: middle;\n",
       "    }\n",
       "\n",
       "    .dataframe tbody tr th {\n",
       "        vertical-align: top;\n",
       "    }\n",
       "\n",
       "    .dataframe thead th {\n",
       "        text-align: right;\n",
       "    }\n",
       "</style>\n",
       "<table border=\"1\" class=\"dataframe\">\n",
       "  <thead>\n",
       "    <tr style=\"text-align: right;\">\n",
       "      <th></th>\n",
       "      <th>customer_id</th>\n",
       "      <th>customer_unique_id</th>\n",
       "      <th>customer_city</th>\n",
       "      <th>geolocation_lat</th>\n",
       "      <th>geolocation_lng</th>\n",
       "      <th>order_status</th>\n",
       "      <th>order_purchase_timestamp</th>\n",
       "      <th>order_approved_at</th>\n",
       "      <th>order_delivered_carrier_date</th>\n",
       "      <th>order_delivered_customer_date</th>\n",
       "      <th>order_estimated_delivery_date</th>\n",
       "      <th>payment_sequential</th>\n",
       "      <th>payment_type</th>\n",
       "      <th>payment_installments</th>\n",
       "      <th>payment_value</th>\n",
       "      <th>seller_id</th>\n",
       "      <th>product_category_name_english</th>\n",
       "    </tr>\n",
       "  </thead>\n",
       "  <tbody>\n",
       "    <tr>\n",
       "      <th>0</th>\n",
       "      <td>05b005e82f3f2dcc41b5504f00484e50</td>\n",
       "      <td>3ef8c1513fc80fb905ccd8d57da5e9b8</td>\n",
       "      <td>sao paulo</td>\n",
       "      <td>-23.545621</td>\n",
       "      <td>-46.639292</td>\n",
       "      <td>delivered</td>\n",
       "      <td>2018-08-17 10:59:04.000000000</td>\n",
       "      <td>2018-08-18 03:09:46.000000000</td>\n",
       "      <td>2018-08-20 13:43:00.000000000</td>\n",
       "      <td>2018-08-21 17:51:40.000000000</td>\n",
       "      <td>2018-08-22 00:00:00.000000000</td>\n",
       "      <td>1.0</td>\n",
       "      <td>boleto</td>\n",
       "      <td>1.0</td>\n",
       "      <td>33.34</td>\n",
       "      <td>2953ce3a88f5e3c3b696d77fc9e4c8eb</td>\n",
       "      <td>books_technical</td>\n",
       "    </tr>\n",
       "    <tr>\n",
       "      <th>1</th>\n",
       "      <td>1d9d8fdfda9ee5c0fbbc6b93e2ceca65</td>\n",
       "      <td>cb382a3e0fbce8a1d31e86f807314dc8</td>\n",
       "      <td>sao paulo</td>\n",
       "      <td>-23.640619</td>\n",
       "      <td>-46.696566</td>\n",
       "      <td>delivered</td>\n",
       "      <td>2018-08-17 08:30:51.000000000</td>\n",
       "      <td>2018-08-18 02:49:48.000000000</td>\n",
       "      <td>2018-08-20 13:49:00.000000000</td>\n",
       "      <td>2018-08-21 18:12:52.000000000</td>\n",
       "      <td>2018-08-22 00:00:00.000000000</td>\n",
       "      <td>1.0</td>\n",
       "      <td>boleto</td>\n",
       "      <td>1.0</td>\n",
       "      <td>33.34</td>\n",
       "      <td>2953ce3a88f5e3c3b696d77fc9e4c8eb</td>\n",
       "      <td>books_technical</td>\n",
       "    </tr>\n",
       "    <tr>\n",
       "      <th>2</th>\n",
       "      <td>00ba72dac5dae2776b5bfcf799a956b2</td>\n",
       "      <td>40b5e9eed4db7f956359145971056f5d</td>\n",
       "      <td>sao paulo</td>\n",
       "      <td>-23.738264</td>\n",
       "      <td>-46.701857</td>\n",
       "      <td>delivered</td>\n",
       "      <td>2018-08-11 22:06:23.000000000</td>\n",
       "      <td>2018-08-14 04:30:21.000000000</td>\n",
       "      <td>2018-08-14 15:58:00.000000000</td>\n",
       "      <td>2018-08-16 21:38:54.000000000</td>\n",
       "      <td>2018-08-16 00:00:00.000000000</td>\n",
       "      <td>1.0</td>\n",
       "      <td>boleto</td>\n",
       "      <td>1.0</td>\n",
       "      <td>33.34</td>\n",
       "      <td>2953ce3a88f5e3c3b696d77fc9e4c8eb</td>\n",
       "      <td>books_technical</td>\n",
       "    </tr>\n",
       "  </tbody>\n",
       "</table>\n",
       "</div>"
      ],
      "text/plain": [
       "                        customer_id                customer_unique_id  \\\n",
       "0  05b005e82f3f2dcc41b5504f00484e50  3ef8c1513fc80fb905ccd8d57da5e9b8   \n",
       "1  1d9d8fdfda9ee5c0fbbc6b93e2ceca65  cb382a3e0fbce8a1d31e86f807314dc8   \n",
       "2  00ba72dac5dae2776b5bfcf799a956b2  40b5e9eed4db7f956359145971056f5d   \n",
       "\n",
       "  customer_city  geolocation_lat  geolocation_lng order_status  \\\n",
       "0     sao paulo       -23.545621       -46.639292    delivered   \n",
       "1     sao paulo       -23.640619       -46.696566    delivered   \n",
       "2     sao paulo       -23.738264       -46.701857    delivered   \n",
       "\n",
       "        order_purchase_timestamp              order_approved_at  \\\n",
       "0  2018-08-17 10:59:04.000000000  2018-08-18 03:09:46.000000000   \n",
       "1  2018-08-17 08:30:51.000000000  2018-08-18 02:49:48.000000000   \n",
       "2  2018-08-11 22:06:23.000000000  2018-08-14 04:30:21.000000000   \n",
       "\n",
       "    order_delivered_carrier_date  order_delivered_customer_date  \\\n",
       "0  2018-08-20 13:43:00.000000000  2018-08-21 17:51:40.000000000   \n",
       "1  2018-08-20 13:49:00.000000000  2018-08-21 18:12:52.000000000   \n",
       "2  2018-08-14 15:58:00.000000000  2018-08-16 21:38:54.000000000   \n",
       "\n",
       "   order_estimated_delivery_date  payment_sequential payment_type  \\\n",
       "0  2018-08-22 00:00:00.000000000                 1.0       boleto   \n",
       "1  2018-08-22 00:00:00.000000000                 1.0       boleto   \n",
       "2  2018-08-16 00:00:00.000000000                 1.0       boleto   \n",
       "\n",
       "   payment_installments  payment_value                         seller_id  \\\n",
       "0                   1.0          33.34  2953ce3a88f5e3c3b696d77fc9e4c8eb   \n",
       "1                   1.0          33.34  2953ce3a88f5e3c3b696d77fc9e4c8eb   \n",
       "2                   1.0          33.34  2953ce3a88f5e3c3b696d77fc9e4c8eb   \n",
       "\n",
       "  product_category_name_english  \n",
       "0               books_technical  \n",
       "1               books_technical  \n",
       "2               books_technical  "
      ]
     },
     "execution_count": 2,
     "metadata": {},
     "output_type": "execute_result"
    }
   ],
   "source": [
    "df = pd.read_csv(\"notebookexploration.csv\")\n",
    "df.head(3)"
   ]
  },
  {
   "cell_type": "code",
   "execution_count": 3,
   "id": "7e74a898",
   "metadata": {},
   "outputs": [
    {
     "data": {
      "image/png": "[encoded data removed]",
      "text/plain": [
       "<Figure size 432x288 with 1 Axes>"
      ]
     },
     "metadata": {
      "needs_background": "light"
     },
     "output_type": "display_data"
    }
   ],
   "source": [
    "graphRemplissage(df)"
   ]
  },
  {
   "cell_type": "code",
   "execution_count": 4,
   "id": "9392ca80",
   "metadata": {},
   "outputs": [
    {
     "name": "stdout",
     "output_type": "stream",
     "text": [
      "<class 'pandas.core.frame.DataFrame'>\n",
      "RangeIndex: 99441 entries, 0 to 99440\n",
      "Data columns (total 17 columns):\n",
      " #   Column                         Non-Null Count  Dtype  \n",
      "---  ------                         --------------  -----  \n",
      " 0   customer_id                    99441 non-null  object \n",
      " 1   customer_unique_id             99441 non-null  object \n",
      " 2   customer_city                  99441 non-null  object \n",
      " 3   geolocation_lat                99441 non-null  float64\n",
      " 4   geolocation_lng                99441 non-null  float64\n",
      " 5   order_status                   99441 non-null  object \n",
      " 6   order_purchase_timestamp       99441 non-null  object \n",
      " 7   order_approved_at              99441 non-null  object \n",
      " 8   order_delivered_carrier_date   99441 non-null  object \n",
      " 9   order_delivered_customer_date  99441 non-null  object \n",
      " 10  order_estimated_delivery_date  99441 non-null  object \n",
      " 11  payment_sequential             99441 non-null  float64\n",
      " 12  payment_type                   99441 non-null  object \n",
      " 13  payment_installments           99441 non-null  float64\n",
      " 14  payment_value                  99441 non-null  float64\n",
      " 15  seller_id                      99441 non-null  object \n",
      " 16  product_category_name_english  99441 non-null  object \n",
      "dtypes: float64(5), object(12)\n",
      "memory usage: 12.9+ MB\n"
     ]
    }
   ],
   "source": [
    "df.info()"
   ]
  },
  {
   "cell_type": "code",
   "execution_count": 5,
   "id": "5d8bf1d0",
   "metadata": {},
   "outputs": [
    {
     "data": {
      "text/plain": [
       "(99441, 17)"
      ]
     },
     "execution_count": 5,
     "metadata": {},
     "output_type": "execute_result"
    }
   ],
   "source": [
    "df.shape"
   ]
  },
  {
   "cell_type": "markdown",
   "id": "23e3ecb0",
   "metadata": {},
   "source": [
    "## 3. RFM <a class=\"anchor\" id=\"chapter3\"></a>"
   ]
  },
  {
   "cell_type": "markdown",
   "id": "58d6df77",
   "metadata": {},
   "source": [
    "On va segmenter nos clients, on utilise RFM. Pour commencer, on va convertir les dates au format \"datetime\"."
   ]
  },
  {
   "cell_type": "code",
   "execution_count": 6,
   "id": "ac2af710",
   "metadata": {},
   "outputs": [],
   "source": [
    "time = [\"order_purchase_timestamp\", \"order_approved_at\",\n",
    "        \"order_delivered_carrier_date\", \"order_delivered_customer_date\",\n",
    "        \"order_estimated_delivery_date\"]\n",
    "\n",
    "for cols in time:\n",
    "    df[cols] = pd.to_datetime(df[cols],\n",
    "                              format=\"%Y-%m-%d\", errors=\"ignore\")"
   ]
  },
  {
   "cell_type": "markdown",
   "id": "813a9a74",
   "metadata": {},
   "source": [
    "On regarde le minimum et le maximum de nos dates."
   ]
  },
  {
   "cell_type": "code",
   "execution_count": 7,
   "id": "108dc161",
   "metadata": {},
   "outputs": [
    {
     "name": "stdout",
     "output_type": "stream",
     "text": [
      "Orders from 2016-09-04 21:15:19 to 2018-10-17 17:30:18\n"
     ]
    }
   ],
   "source": [
    "print('Orders from {} to {}'.format(df[\"order_purchase_timestamp\"].min(),\n",
    "                                    df[\"order_purchase_timestamp\"].max()))"
   ]
  },
  {
   "cell_type": "code",
   "execution_count": 8,
   "id": "db4d97ae",
   "metadata": {},
   "outputs": [
    {
     "name": "stdout",
     "output_type": "stream",
     "text": [
      "Orders from 2016-09-30 00:00:00 to 2018-11-12 00:00:00\n"
     ]
    }
   ],
   "source": [
    "print('Orders from {} to {}'.format(df[\"order_delivered_customer_date\"].min(),\n",
    "                                    df[\"order_delivered_customer_date\"].max()))"
   ]
  },
  {
   "cell_type": "markdown",
   "id": "0549c3b2",
   "metadata": {},
   "source": [
    "On segmente nos données, on créait un nouveau dataframe en prenant la variable unique des clients. Les nouvelles variables sont : \"Recency\" et \"Frequency\".<br>\n",
    "\"Recency\" : le nombre de jours depuis la dernière commande.<br>\n",
    "\"Frequency\" : le nombre total de commandes au cours de la dernière période."
   ]
  },
  {
   "cell_type": "code",
   "execution_count": 9,
   "id": "27ae3515",
   "metadata": {},
   "outputs": [
    {
     "data": {
      "text/html": [
       "<div>\n",
       "<style scoped>\n",
       "    .dataframe tbody tr th:only-of-type {\n",
       "        vertical-align: middle;\n",
       "    }\n",
       "\n",
       "    .dataframe tbody tr th {\n",
       "        vertical-align: top;\n",
       "    }\n",
       "\n",
       "    .dataframe thead th {\n",
       "        text-align: right;\n",
       "    }\n",
       "</style>\n",
       "<table border=\"1\" class=\"dataframe\">\n",
       "  <thead>\n",
       "    <tr style=\"text-align: right;\">\n",
       "      <th></th>\n",
       "      <th>customer_unique_id</th>\n",
       "      <th>Recency</th>\n",
       "      <th>Frequency</th>\n",
       "    </tr>\n",
       "  </thead>\n",
       "  <tbody>\n",
       "    <tr>\n",
       "      <th>0</th>\n",
       "      <td>0000366f3b9a7992bf8c76cfdf3221e2</td>\n",
       "      <td>160</td>\n",
       "      <td>1</td>\n",
       "    </tr>\n",
       "    <tr>\n",
       "      <th>1</th>\n",
       "      <td>0000b849f77a49e4a4ce2b2a4ca5be3f</td>\n",
       "      <td>163</td>\n",
       "      <td>1</td>\n",
       "    </tr>\n",
       "    <tr>\n",
       "      <th>2</th>\n",
       "      <td>0000f46a3911fa3c0805444483337064</td>\n",
       "      <td>586</td>\n",
       "      <td>1</td>\n",
       "    </tr>\n",
       "  </tbody>\n",
       "</table>\n",
       "</div>"
      ],
      "text/plain": [
       "                 customer_unique_id  Recency  Frequency\n",
       "0  0000366f3b9a7992bf8c76cfdf3221e2      160          1\n",
       "1  0000b849f77a49e4a4ce2b2a4ca5be3f      163          1\n",
       "2  0000f46a3911fa3c0805444483337064      586          1"
      ]
     },
     "execution_count": 9,
     "metadata": {},
     "output_type": "execute_result"
    }
   ],
   "source": [
    "df['date'] = df['order_approved_at'].apply(lambda x: (df['order_approved_at'].max() - x).days)\n",
    "\n",
    "period = 365*2\n",
    "\n",
    "aggr = {\n",
    "    'date': lambda x: x.min(),  # the number of days since last order (Recency)\n",
    "    'order_delivered_customer_date': lambda x: len([d for d in x if d >=\\\n",
    "                                                    df[\"order_delivered_customer_date\"].max() - timedelta(days=period)]),\n",
    "    # the total number of orders in the last period (Frequency)\n",
    "}\n",
    "rfm = df.groupby('customer_unique_id').agg(aggr).reset_index()\n",
    "rfm.rename(columns={'date': 'Recency', 'order_delivered_customer_date': 'Frequency'}, inplace=True)\n",
    "rfm.head(3)"
   ]
  },
  {
   "cell_type": "markdown",
   "id": "f29a2f32",
   "metadata": {},
   "source": [
    "On créait la troisième variable 'Monetary' : la moyenne des paiements."
   ]
  },
  {
   "cell_type": "code",
   "execution_count": 10,
   "id": "92931548",
   "metadata": {},
   "outputs": [
    {
     "data": {
      "text/html": [
       "<div>\n",
       "<style scoped>\n",
       "    .dataframe tbody tr th:only-of-type {\n",
       "        vertical-align: middle;\n",
       "    }\n",
       "\n",
       "    .dataframe tbody tr th {\n",
       "        vertical-align: top;\n",
       "    }\n",
       "\n",
       "    .dataframe thead th {\n",
       "        text-align: right;\n",
       "    }\n",
       "</style>\n",
       "<table border=\"1\" class=\"dataframe\">\n",
       "  <thead>\n",
       "    <tr style=\"text-align: right;\">\n",
       "      <th></th>\n",
       "      <th>customer_unique_id</th>\n",
       "      <th>Recency</th>\n",
       "      <th>Frequency</th>\n",
       "      <th>Monetary</th>\n",
       "    </tr>\n",
       "  </thead>\n",
       "  <tbody>\n",
       "    <tr>\n",
       "      <th>0</th>\n",
       "      <td>0000366f3b9a7992bf8c76cfdf3221e2</td>\n",
       "      <td>160</td>\n",
       "      <td>1</td>\n",
       "      <td>141.90</td>\n",
       "    </tr>\n",
       "    <tr>\n",
       "      <th>1</th>\n",
       "      <td>0000b849f77a49e4a4ce2b2a4ca5be3f</td>\n",
       "      <td>163</td>\n",
       "      <td>1</td>\n",
       "      <td>27.19</td>\n",
       "    </tr>\n",
       "    <tr>\n",
       "      <th>2</th>\n",
       "      <td>0000f46a3911fa3c0805444483337064</td>\n",
       "      <td>586</td>\n",
       "      <td>1</td>\n",
       "      <td>86.22</td>\n",
       "    </tr>\n",
       "  </tbody>\n",
       "</table>\n",
       "</div>"
      ],
      "text/plain": [
       "                 customer_unique_id  Recency  Frequency  Monetary\n",
       "0  0000366f3b9a7992bf8c76cfdf3221e2      160          1    141.90\n",
       "1  0000b849f77a49e4a4ce2b2a4ca5be3f      163          1     27.19\n",
       "2  0000f46a3911fa3c0805444483337064      586          1     86.22"
      ]
     },
     "execution_count": 10,
     "metadata": {},
     "output_type": "execute_result"
    }
   ],
   "source": [
    "rfm['Monetary'] = rfm['customer_unique_id']\\\n",
    "                            .apply(lambda x: df[(df['customer_unique_id'] == x) &\\\n",
    "                                                (df['order_delivered_customer_date'] >=\\\n",
    "                                                 df[\"order_delivered_customer_date\"].max() - timedelta(days=period))]\\\n",
    "                                                           ['payment_value'].mean())\n",
    "rfm.head(3)"
   ]
  },
  {
   "cell_type": "markdown",
   "id": "30310b37",
   "metadata": {},
   "source": [
    "On va trouver des quintiles pour chacune de ces variables."
   ]
  },
  {
   "cell_type": "code",
   "execution_count": 11,
   "id": "0f9c4507",
   "metadata": {},
   "outputs": [
    {
     "data": {
      "text/plain": [
       "{'Recency': {0.2: 142.0, 0.4: 227.0, 0.6: 317.0, 0.8: 433.0},\n",
       " 'Frequency': {0.2: 1.0, 0.4: 1.0, 0.6: 1.0, 0.8: 1.0},\n",
       " 'Monetary': {0.2: 53.01, 0.4: 84.14, 0.6: 127.31, 0.8: 199.96}}"
      ]
     },
     "execution_count": 11,
     "metadata": {},
     "output_type": "execute_result"
    }
   ],
   "source": [
    "quintiles = rfm[['Recency', 'Frequency', 'Monetary']].quantile([.2, .4, .6, .8]).to_dict()\n",
    "quintiles"
   ]
  },
  {
   "cell_type": "markdown",
   "id": "e0c7d1e2",
   "metadata": {},
   "source": [
    "Maintenant que nous avons nos valeurs : \"Recency\", \"Frequency\" et \"Monetary\", on va afficher le score de nos clients. On calcule le score de chacune des variables, ces scores seront mis dans les variables \"R\", \"F\" et \"M\". On les convertira en format \"string\" pour le score final."
   ]
  },
  {
   "cell_type": "code",
   "execution_count": 12,
   "id": "f3514931",
   "metadata": {},
   "outputs": [],
   "source": [
    "def r_score(x):\n",
    "    if x <= quintiles['Recency'][.2]:\n",
    "        return 5\n",
    "    elif x <= quintiles['Recency'][.4]:\n",
    "        return 4\n",
    "    elif x <= quintiles['Recency'][.6]:\n",
    "        return 3\n",
    "    elif x <= quintiles['Recency'][.8]:\n",
    "        return 2\n",
    "    else:\n",
    "        return 1\n",
    "\n",
    "def fm_score(x, c):\n",
    "    if x <= quintiles[c][.2]:\n",
    "        return 1\n",
    "    elif x <= quintiles[c][.4]:\n",
    "        return 2\n",
    "    elif x <= quintiles[c][.6]:\n",
    "        return 3\n",
    "    elif x <= quintiles[c][.8]:\n",
    "        return 4\n",
    "    else:\n",
    "        return 5"
   ]
  },
  {
   "cell_type": "code",
   "execution_count": 13,
   "id": "b64f2fa6",
   "metadata": {},
   "outputs": [],
   "source": [
    "rfm['R'] = rfm['Recency'].apply(lambda x: r_score(x))\n",
    "rfm['F'] = rfm['Frequency'].apply(lambda x: fm_score(x, 'Frequency'))\n",
    "rfm['M'] = rfm['Monetary'].apply(lambda x: fm_score(x, 'Monetary'))"
   ]
  },
  {
   "cell_type": "code",
   "execution_count": 14,
   "id": "94dbfc3f",
   "metadata": {},
   "outputs": [
    {
     "data": {
      "text/html": [
       "<div>\n",
       "<style scoped>\n",
       "    .dataframe tbody tr th:only-of-type {\n",
       "        vertical-align: middle;\n",
       "    }\n",
       "\n",
       "    .dataframe tbody tr th {\n",
       "        vertical-align: top;\n",
       "    }\n",
       "\n",
       "    .dataframe thead th {\n",
       "        text-align: right;\n",
       "    }\n",
       "</style>\n",
       "<table border=\"1\" class=\"dataframe\">\n",
       "  <thead>\n",
       "    <tr style=\"text-align: right;\">\n",
       "      <th></th>\n",
       "      <th>customer_unique_id</th>\n",
       "      <th>Recency</th>\n",
       "      <th>Frequency</th>\n",
       "      <th>Monetary</th>\n",
       "      <th>R</th>\n",
       "      <th>F</th>\n",
       "      <th>M</th>\n",
       "      <th>RFM Score</th>\n",
       "    </tr>\n",
       "  </thead>\n",
       "  <tbody>\n",
       "    <tr>\n",
       "      <th>0</th>\n",
       "      <td>0000366f3b9a7992bf8c76cfdf3221e2</td>\n",
       "      <td>160</td>\n",
       "      <td>1</td>\n",
       "      <td>141.90</td>\n",
       "      <td>4</td>\n",
       "      <td>1</td>\n",
       "      <td>4</td>\n",
       "      <td>414</td>\n",
       "    </tr>\n",
       "    <tr>\n",
       "      <th>1</th>\n",
       "      <td>0000b849f77a49e4a4ce2b2a4ca5be3f</td>\n",
       "      <td>163</td>\n",
       "      <td>1</td>\n",
       "      <td>27.19</td>\n",
       "      <td>4</td>\n",
       "      <td>1</td>\n",
       "      <td>1</td>\n",
       "      <td>411</td>\n",
       "    </tr>\n",
       "    <tr>\n",
       "      <th>2</th>\n",
       "      <td>0000f46a3911fa3c0805444483337064</td>\n",
       "      <td>586</td>\n",
       "      <td>1</td>\n",
       "      <td>86.22</td>\n",
       "      <td>1</td>\n",
       "      <td>1</td>\n",
       "      <td>3</td>\n",
       "      <td>113</td>\n",
       "    </tr>\n",
       "  </tbody>\n",
       "</table>\n",
       "</div>"
      ],
      "text/plain": [
       "                 customer_unique_id  Recency  Frequency  Monetary  R  F  M  \\\n",
       "0  0000366f3b9a7992bf8c76cfdf3221e2      160          1    141.90  4  1  4   \n",
       "1  0000b849f77a49e4a4ce2b2a4ca5be3f      163          1     27.19  4  1  1   \n",
       "2  0000f46a3911fa3c0805444483337064      586          1     86.22  1  1  3   \n",
       "\n",
       "  RFM Score  \n",
       "0       414  \n",
       "1       411  \n",
       "2       113  "
      ]
     },
     "execution_count": 14,
     "metadata": {},
     "output_type": "execute_result"
    }
   ],
   "source": [
    "rfm['RFM Score'] = rfm['R'].map(str) + rfm['F'].map(str) + rfm['M'].map(str)\n",
    "rfm.head(3)"
   ]
  },
  {
   "cell_type": "markdown",
   "id": "244607b8",
   "metadata": {},
   "source": [
    "Maintenant que nous avons le score, on va les segmenter et connaitre le type de client. On va mettre le score dans une nouvelle variable."
   ]
  },
  {
   "cell_type": "code",
   "execution_count": 15,
   "id": "f1257229",
   "metadata": {},
   "outputs": [
    {
     "data": {
      "text/html": [
       "<div>\n",
       "<style scoped>\n",
       "    .dataframe tbody tr th:only-of-type {\n",
       "        vertical-align: middle;\n",
       "    }\n",
       "\n",
       "    .dataframe tbody tr th {\n",
       "        vertical-align: top;\n",
       "    }\n",
       "\n",
       "    .dataframe thead th {\n",
       "        text-align: right;\n",
       "    }\n",
       "</style>\n",
       "<table border=\"1\" class=\"dataframe\">\n",
       "  <thead>\n",
       "    <tr style=\"text-align: right;\">\n",
       "      <th></th>\n",
       "      <th>customer_unique_id</th>\n",
       "      <th>Recency</th>\n",
       "      <th>Frequency</th>\n",
       "      <th>Monetary</th>\n",
       "      <th>R</th>\n",
       "      <th>F</th>\n",
       "      <th>M</th>\n",
       "      <th>RFM Score</th>\n",
       "      <th>Segment</th>\n",
       "    </tr>\n",
       "  </thead>\n",
       "  <tbody>\n",
       "    <tr>\n",
       "      <th>0</th>\n",
       "      <td>0000366f3b9a7992bf8c76cfdf3221e2</td>\n",
       "      <td>160</td>\n",
       "      <td>1</td>\n",
       "      <td>141.90</td>\n",
       "      <td>4</td>\n",
       "      <td>1</td>\n",
       "      <td>4</td>\n",
       "      <td>414</td>\n",
       "      <td>promising</td>\n",
       "    </tr>\n",
       "    <tr>\n",
       "      <th>1</th>\n",
       "      <td>0000b849f77a49e4a4ce2b2a4ca5be3f</td>\n",
       "      <td>163</td>\n",
       "      <td>1</td>\n",
       "      <td>27.19</td>\n",
       "      <td>4</td>\n",
       "      <td>1</td>\n",
       "      <td>1</td>\n",
       "      <td>411</td>\n",
       "      <td>promising</td>\n",
       "    </tr>\n",
       "    <tr>\n",
       "      <th>2</th>\n",
       "      <td>0000f46a3911fa3c0805444483337064</td>\n",
       "      <td>586</td>\n",
       "      <td>1</td>\n",
       "      <td>86.22</td>\n",
       "      <td>1</td>\n",
       "      <td>1</td>\n",
       "      <td>3</td>\n",
       "      <td>113</td>\n",
       "      <td>hibernating</td>\n",
       "    </tr>\n",
       "  </tbody>\n",
       "</table>\n",
       "</div>"
      ],
      "text/plain": [
       "                 customer_unique_id  Recency  Frequency  Monetary  R  F  M  \\\n",
       "0  0000366f3b9a7992bf8c76cfdf3221e2      160          1    141.90  4  1  4   \n",
       "1  0000b849f77a49e4a4ce2b2a4ca5be3f      163          1     27.19  4  1  1   \n",
       "2  0000f46a3911fa3c0805444483337064      586          1     86.22  1  1  3   \n",
       "\n",
       "  RFM Score      Segment  \n",
       "0       414    promising  \n",
       "1       411    promising  \n",
       "2       113  hibernating  "
      ]
     },
     "execution_count": 15,
     "metadata": {},
     "output_type": "execute_result"
    }
   ],
   "source": [
    "segt_map = {\n",
    "    r'[1-2][1-2]': 'hibernating',\n",
    "    r'[1-2][3-4]': 'at risk',\n",
    "    r'[1-2]5': 'can\\'t loose',\n",
    "    r'3[1-2]': 'about to sleep',\n",
    "    r'33': 'need attention',\n",
    "    r'[3-4][4-5]': 'loyal customers',\n",
    "    r'41': 'promising',\n",
    "    r'51': 'new customers',\n",
    "    r'[4-5][2-3]': 'potential loyalists',\n",
    "    r'5[4-5]': 'champions'\n",
    "}\n",
    "\n",
    "rfm['Segment'] = rfm['R'].map(str) + rfm['F'].map(str)\n",
    "rfm['Segment'] = rfm['Segment'].replace(segt_map, regex=True)\n",
    "rfm.head(3)"
   ]
  },
  {
   "cell_type": "markdown",
   "id": "8a88efa7",
   "metadata": {},
   "source": [
    "On affiche le résultat sur un graphique :"
   ]
  },
  {
   "cell_type": "code",
   "execution_count": 16,
   "id": "f0def889",
   "metadata": {},
   "outputs": [
    {
     "data": {
      "image/png": "[encoded data removed]",
      "text/plain": [
       "<Figure size 504x504 with 1 Axes>"
      ]
     },
     "metadata": {},
     "output_type": "display_data"
    }
   ],
   "source": [
    "seg = rfm['Segment'].value_counts()\n",
    "\n",
    "plt.rcParams[\"figure.figsize\"] = (7,7)\n",
    "plt.pie(seg, labels = seg.index, autopct='%1.1f%%', pctdistance = 0.7)\n",
    "plt.legend(bbox_to_anchor=(1.3, 1.0), loc='upper left')\n",
    "plt.title(\"Segments\", fontsize = 12,fontweight = 'bold')\n",
    "plt.show()"
   ]
  },
  {
   "cell_type": "markdown",
   "id": "dba3ad56",
   "metadata": {},
   "source": [
    "Ce graphique permet de voir qu'une majorité de clients sont dans l'état \"hibernating\", et qu'il y a peu de clients qui reviennent acheter."
   ]
  },
  {
   "cell_type": "code",
   "execution_count": 17,
   "id": "88c2ebcc",
   "metadata": {},
   "outputs": [
    {
     "data": {
      "text/html": [
       "<div>\n",
       "<style scoped>\n",
       "    .dataframe tbody tr th:only-of-type {\n",
       "        vertical-align: middle;\n",
       "    }\n",
       "\n",
       "    .dataframe tbody tr th {\n",
       "        vertical-align: top;\n",
       "    }\n",
       "\n",
       "    .dataframe thead th {\n",
       "        text-align: right;\n",
       "    }\n",
       "</style>\n",
       "<table border=\"1\" class=\"dataframe\">\n",
       "  <thead>\n",
       "    <tr style=\"text-align: right;\">\n",
       "      <th></th>\n",
       "      <th>Recency</th>\n",
       "      <th>Frequency</th>\n",
       "      <th>Monetary</th>\n",
       "      <th>R</th>\n",
       "      <th>F</th>\n",
       "      <th>M</th>\n",
       "    </tr>\n",
       "  </thead>\n",
       "  <tbody>\n",
       "    <tr>\n",
       "      <th>count</th>\n",
       "      <td>96096.000000</td>\n",
       "      <td>96096.000000</td>\n",
       "      <td>95856.000000</td>\n",
       "      <td>96096.000000</td>\n",
       "      <td>96096.000000</td>\n",
       "      <td>96096.000000</td>\n",
       "    </tr>\n",
       "    <tr>\n",
       "      <th>mean</th>\n",
       "      <td>287.748054</td>\n",
       "      <td>1.032187</td>\n",
       "      <td>158.726917</td>\n",
       "      <td>3.003840</td>\n",
       "      <td>1.124292</td>\n",
       "      <td>3.004776</td>\n",
       "    </tr>\n",
       "    <tr>\n",
       "      <th>std</th>\n",
       "      <td>153.423153</td>\n",
       "      <td>0.220200</td>\n",
       "      <td>219.912257</td>\n",
       "      <td>1.415154</td>\n",
       "      <td>0.694065</td>\n",
       "      <td>1.416121</td>\n",
       "    </tr>\n",
       "    <tr>\n",
       "      <th>min</th>\n",
       "      <td>0.000000</td>\n",
       "      <td>0.000000</td>\n",
       "      <td>0.000000</td>\n",
       "      <td>1.000000</td>\n",
       "      <td>1.000000</td>\n",
       "      <td>1.000000</td>\n",
       "    </tr>\n",
       "    <tr>\n",
       "      <th>25%</th>\n",
       "      <td>163.000000</td>\n",
       "      <td>1.000000</td>\n",
       "      <td>60.640000</td>\n",
       "      <td>2.000000</td>\n",
       "      <td>1.000000</td>\n",
       "      <td>2.000000</td>\n",
       "    </tr>\n",
       "    <tr>\n",
       "      <th>50%</th>\n",
       "      <td>268.000000</td>\n",
       "      <td>1.000000</td>\n",
       "      <td>103.802500</td>\n",
       "      <td>3.000000</td>\n",
       "      <td>1.000000</td>\n",
       "      <td>3.000000</td>\n",
       "    </tr>\n",
       "    <tr>\n",
       "      <th>75%</th>\n",
       "      <td>397.000000</td>\n",
       "      <td>1.000000</td>\n",
       "      <td>175.300000</td>\n",
       "      <td>4.000000</td>\n",
       "      <td>1.000000</td>\n",
       "      <td>4.000000</td>\n",
       "    </tr>\n",
       "    <tr>\n",
       "      <th>max</th>\n",
       "      <td>762.000000</td>\n",
       "      <td>17.000000</td>\n",
       "      <td>13664.080000</td>\n",
       "      <td>5.000000</td>\n",
       "      <td>5.000000</td>\n",
       "      <td>5.000000</td>\n",
       "    </tr>\n",
       "  </tbody>\n",
       "</table>\n",
       "</div>"
      ],
      "text/plain": [
       "            Recency     Frequency      Monetary             R             F  \\\n",
       "count  96096.000000  96096.000000  95856.000000  96096.000000  96096.000000   \n",
       "mean     287.748054      1.032187    158.726917      3.003840      1.124292   \n",
       "std      153.423153      0.220200    219.912257      1.415154      0.694065   \n",
       "min        0.000000      0.000000      0.000000      1.000000      1.000000   \n",
       "25%      163.000000      1.000000     60.640000      2.000000      1.000000   \n",
       "50%      268.000000      1.000000    103.802500      3.000000      1.000000   \n",
       "75%      397.000000      1.000000    175.300000      4.000000      1.000000   \n",
       "max      762.000000     17.000000  13664.080000      5.000000      5.000000   \n",
       "\n",
       "                  M  \n",
       "count  96096.000000  \n",
       "mean       3.004776  \n",
       "std        1.416121  \n",
       "min        1.000000  \n",
       "25%        2.000000  \n",
       "50%        3.000000  \n",
       "75%        4.000000  \n",
       "max        5.000000  "
      ]
     },
     "execution_count": 17,
     "metadata": {},
     "output_type": "execute_result"
    }
   ],
   "source": [
    "rfm.describe()"
   ]
  },
  {
   "cell_type": "markdown",
   "id": "00b043cb",
   "metadata": {},
   "source": [
    "## 4. Conclusion <a class=\"anchor\" id=\"chapter4\"></a>"
   ]
  },
  {
   "cell_type": "markdown",
   "id": "efe8e124",
   "metadata": {},
   "source": [
    "Beaucoup de personnes ne font qu'une commande et on a beaucoup de client en \"hibernation\"."
   ]
  },
  {
   "cell_type": "markdown",
   "id": "500bcb43",
   "metadata": {},
   "source": [
    "## 5. Création de fichier csv <a class=\"anchor\" id=\"chapter5\"></a>"
   ]
  },
  {
   "cell_type": "markdown",
   "id": "23b3f56d",
   "metadata": {},
   "source": [
    "Création d'un nouveau dataframe pour pouvoir créer un nouveau fichier \"csv\". On vérifie que nos données n'ont pas de valeurs manquantes. Si c'est le cas, on va imputer les valeurs manquantes par la moyenne."
   ]
  },
  {
   "cell_type": "code",
   "execution_count": 18,
   "id": "07cc43ac",
   "metadata": {},
   "outputs": [
    {
     "data": {
      "text/html": [
       "<div>\n",
       "<style scoped>\n",
       "    .dataframe tbody tr th:only-of-type {\n",
       "        vertical-align: middle;\n",
       "    }\n",
       "\n",
       "    .dataframe tbody tr th {\n",
       "        vertical-align: top;\n",
       "    }\n",
       "\n",
       "    .dataframe thead th {\n",
       "        text-align: right;\n",
       "    }\n",
       "</style>\n",
       "<table border=\"1\" class=\"dataframe\">\n",
       "  <thead>\n",
       "    <tr style=\"text-align: right;\">\n",
       "      <th></th>\n",
       "      <th>customer_unique_id</th>\n",
       "      <th>Recency</th>\n",
       "      <th>Frequency</th>\n",
       "      <th>Monetary</th>\n",
       "      <th>R</th>\n",
       "      <th>F</th>\n",
       "      <th>M</th>\n",
       "      <th>RFM Score</th>\n",
       "      <th>Segment</th>\n",
       "    </tr>\n",
       "  </thead>\n",
       "  <tbody>\n",
       "    <tr>\n",
       "      <th>0</th>\n",
       "      <td>1.0</td>\n",
       "      <td>1.0</td>\n",
       "      <td>1.0</td>\n",
       "      <td>0.997502</td>\n",
       "      <td>1.0</td>\n",
       "      <td>1.0</td>\n",
       "      <td>1.0</td>\n",
       "      <td>1.0</td>\n",
       "      <td>1.0</td>\n",
       "    </tr>\n",
       "  </tbody>\n",
       "</table>\n",
       "</div>"
      ],
      "text/plain": [
       "   customer_unique_id  Recency  Frequency  Monetary    R    F    M  RFM Score  \\\n",
       "0                 1.0      1.0        1.0  0.997502  1.0  1.0  1.0        1.0   \n",
       "\n",
       "   Segment  \n",
       "0      1.0  "
      ]
     },
     "execution_count": 18,
     "metadata": {},
     "output_type": "execute_result"
    }
   ],
   "source": [
    "tauxRemplissage(rfm)"
   ]
  },
  {
   "cell_type": "code",
   "execution_count": 19,
   "id": "52788413",
   "metadata": {},
   "outputs": [],
   "source": [
    "col = [\"Recency\", \"Frequency\", \"Monetary\"]\n",
    "imp = SimpleImputer(missing_values=np.nan, strategy=\"mean\", fill_value=\"missing\")\n",
    "rfm[col] = imp.fit_transform(rfm[col])"
   ]
  },
  {
   "cell_type": "code",
   "execution_count": 20,
   "id": "18dd044a",
   "metadata": {},
   "outputs": [],
   "source": [
    "df = pd.merge(df[['customer_unique_id', 'customer_city', 'geolocation_lat', \"seller_id\",\n",
    "              'geolocation_lng', 'product_category_name_english',\n",
    "               \"order_delivered_customer_date\", \"order_approved_at\"]],\n",
    "              rfm, on = \"customer_unique_id\", how = \"outer\")"
   ]
  },
  {
   "cell_type": "code",
   "execution_count": 21,
   "id": "f3db3fc2",
   "metadata": {},
   "outputs": [],
   "source": [
    "df.to_csv('notebooksimulation.csv', index=False)"
   ]
  },
  {
   "cell_type": "code",
   "execution_count": null,
   "id": "f263c5c7",
   "metadata": {},
   "outputs": [],
   "source": []
  }
 ],
 "metadata": {
  "kernelspec": {
   "display_name": "Python 3 (ipykernel)",
   "language": "python",
   "name": "python3"
  },
  "language_info": {
   "codemirror_mode": {
    "name": "ipython",
    "version": 3
   },
   "file_extension": ".py",
   "mimetype": "text/x-python",
   "name": "python",
   "nbconvert_exporter": "python",
   "pygments_lexer": "ipython3",
   "version": "3.9.7"
  }
 },
 "nbformat": 4,
 "nbformat_minor": 5
}
